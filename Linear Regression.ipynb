{
 "cells": [
  {
   "cell_type": "markdown",
   "id": "ea42955f-274d-4b66-984e-216de87a88e2",
   "metadata": {},
   "source": [
    "# SIMPLE LINEAR REGRESSION MODEL IN PYTHON"
   ]
  },
  {
   "cell_type": "markdown",
   "id": "6df692eb-d2c4-4030-b8fa-427f6378feb9",
   "metadata": {},
   "source": [
    "## We are going to build a simple linear regression on a data set from King County located in Seattle, Washington."
   ]
  },
  {
   "cell_type": "markdown",
   "id": "e5bbece1-4012-4196-ac1d-eb7b603e2f4d",
   "metadata": {},
   "source": [
    "## The entire process will be done with the Scikit Learn library, we are going to separate the data that goes for training and testing and then we will make predictions and see if they match the expected data."
   ]
  },
  {
   "cell_type": "code",
   "execution_count": 1,
   "id": "59ed8cdd-da54-4bbf-a5c3-0aa384feafe6",
   "metadata": {},
   "outputs": [],
   "source": [
    "import pandas as pd\n",
    "import numpy as np\n",
    "import matplotlib.pyplot as plt\n",
    "import seaborn as sns\n",
    "from sklearn.model_selection import train_test_split\n",
    "from sklearn.linear_model import LinearRegression\n",
    "from sklearn import metrics"
   ]
  },
  {
   "cell_type": "markdown",
   "id": "c13dd9ff-4b45-4618-aa79-f2b30f230616",
   "metadata": {},
   "source": [
    "# 1.- EXPLORING DATA"
   ]
  },
  {
   "cell_type": "code",
   "execution_count": 2,
   "id": "a3281e60-7f1b-4fe2-ac03-79f64f3aa116",
   "metadata": {},
   "outputs": [],
   "source": [
    "df_kchouse = pd.read_csv(\"kc_house_data.csv\")"
   ]
  },
  {
   "cell_type": "markdown",
   "id": "e254554b-90cf-4aa4-b174-c998cab371c9",
   "metadata": {},
   "source": [
    "### We are going to change the columns' names for better understanding"
   ]
  },
  {
   "cell_type": "code",
   "execution_count": 3,
   "id": "81d3c89d-0079-4cc3-aa22-a71a5bba9a34",
   "metadata": {},
   "outputs": [],
   "source": [
    "df_kchouse.columns = [\"AreaFT\",\"PricesUSD\"]"
   ]
  },
  {
   "cell_type": "markdown",
   "id": "06e0e48d-2028-4bf2-b577-282c31312624",
   "metadata": {},
   "source": [
    "### Let's observe the Data Set size and some values"
   ]
  },
  {
   "cell_type": "code",
   "execution_count": 4,
   "id": "489925d1-400f-4fd5-97b0-467fb1a823ef",
   "metadata": {},
   "outputs": [
    {
     "data": {
      "text/plain": [
       "(21613, 2)"
      ]
     },
     "execution_count": 4,
     "metadata": {},
     "output_type": "execute_result"
    }
   ],
   "source": [
    "df_kchouse.shape"
   ]
  },
  {
   "cell_type": "code",
   "execution_count": 5,
   "id": "5b33a950-739d-4c07-a03c-3308fa31d105",
   "metadata": {},
   "outputs": [
    {
     "data": {
      "text/html": [
       "<div>\n",
       "<style scoped>\n",
       "    .dataframe tbody tr th:only-of-type {\n",
       "        vertical-align: middle;\n",
       "    }\n",
       "\n",
       "    .dataframe tbody tr th {\n",
       "        vertical-align: top;\n",
       "    }\n",
       "\n",
       "    .dataframe thead th {\n",
       "        text-align: right;\n",
       "    }\n",
       "</style>\n",
       "<table border=\"1\" class=\"dataframe\">\n",
       "  <thead>\n",
       "    <tr style=\"text-align: right;\">\n",
       "      <th></th>\n",
       "      <th>AreaFT</th>\n",
       "      <th>PricesUSD</th>\n",
       "    </tr>\n",
       "  </thead>\n",
       "  <tbody>\n",
       "    <tr>\n",
       "      <th>0</th>\n",
       "      <td>1180</td>\n",
       "      <td>221900.0</td>\n",
       "    </tr>\n",
       "    <tr>\n",
       "      <th>1</th>\n",
       "      <td>2570</td>\n",
       "      <td>538000.0</td>\n",
       "    </tr>\n",
       "    <tr>\n",
       "      <th>2</th>\n",
       "      <td>770</td>\n",
       "      <td>180000.0</td>\n",
       "    </tr>\n",
       "    <tr>\n",
       "      <th>3</th>\n",
       "      <td>1960</td>\n",
       "      <td>604000.0</td>\n",
       "    </tr>\n",
       "    <tr>\n",
       "      <th>4</th>\n",
       "      <td>1680</td>\n",
       "      <td>510000.0</td>\n",
       "    </tr>\n",
       "    <tr>\n",
       "      <th>5</th>\n",
       "      <td>5420</td>\n",
       "      <td>1230000.0</td>\n",
       "    </tr>\n",
       "    <tr>\n",
       "      <th>6</th>\n",
       "      <td>1715</td>\n",
       "      <td>257500.0</td>\n",
       "    </tr>\n",
       "    <tr>\n",
       "      <th>7</th>\n",
       "      <td>1060</td>\n",
       "      <td>291850.0</td>\n",
       "    </tr>\n",
       "    <tr>\n",
       "      <th>8</th>\n",
       "      <td>1780</td>\n",
       "      <td>229500.0</td>\n",
       "    </tr>\n",
       "    <tr>\n",
       "      <th>9</th>\n",
       "      <td>1890</td>\n",
       "      <td>323000.0</td>\n",
       "    </tr>\n",
       "  </tbody>\n",
       "</table>\n",
       "</div>"
      ],
      "text/plain": [
       "   AreaFT  PricesUSD\n",
       "0    1180   221900.0\n",
       "1    2570   538000.0\n",
       "2     770   180000.0\n",
       "3    1960   604000.0\n",
       "4    1680   510000.0\n",
       "5    5420  1230000.0\n",
       "6    1715   257500.0\n",
       "7    1060   291850.0\n",
       "8    1780   229500.0\n",
       "9    1890   323000.0"
      ]
     },
     "execution_count": 5,
     "metadata": {},
     "output_type": "execute_result"
    }
   ],
   "source": [
    "df_kchouse.head(10)"
   ]
  },
  {
   "cell_type": "markdown",
   "id": "9a459fa9-ff42-47b1-81b8-dfa0631057bf",
   "metadata": {},
   "source": [
    "# 2.- TRAINING AND TESTING DATA"
   ]
  },
  {
   "cell_type": "markdown",
   "id": "1f646fa5-c744-4d7b-a508-c4f098eea89a",
   "metadata": {},
   "source": [
    "### We are going to split the data in 75% for training and 25% for testing, this step will help in the future"
   ]
  },
  {
   "cell_type": "code",
   "execution_count": 6,
   "id": "0b024ded-3eb3-4b5f-bc03-69de62d0b173",
   "metadata": {},
   "outputs": [],
   "source": [
    "X_train, X_test, y_train, y_test= train_test_split(df_kchouse.AreaFT.values.reshape(-1,1), df_kchouse.PricesUSD.values, random_state = 11)"
   ]
  },
  {
   "cell_type": "code",
   "execution_count": 7,
   "id": "ee1ad116-815f-4f9f-957b-385f0755dd74",
   "metadata": {},
   "outputs": [
    {
     "data": {
      "text/plain": [
       "(16209, 1)"
      ]
     },
     "execution_count": 7,
     "metadata": {},
     "output_type": "execute_result"
    }
   ],
   "source": [
    "X_train.shape"
   ]
  },
  {
   "cell_type": "code",
   "execution_count": 8,
   "id": "2894c876-dfd8-406f-8243-799be021ab0c",
   "metadata": {},
   "outputs": [
    {
     "data": {
      "text/plain": [
       "(5404, 1)"
      ]
     },
     "execution_count": 8,
     "metadata": {},
     "output_type": "execute_result"
    }
   ],
   "source": [
    "X_test.shape"
   ]
  },
  {
   "cell_type": "markdown",
   "id": "b92bb968-b129-48f2-996a-c46ee3ebf04f",
   "metadata": {},
   "source": [
    "# 3.- LINEAR REGRESSION BUILDING"
   ]
  },
  {
   "cell_type": "markdown",
   "id": "cb79555a-b41d-4db3-9e69-1c1b9210355b",
   "metadata": {},
   "source": [
    "### Let's choose an estimator, in this case is going to be 'reglin'"
   ]
  },
  {
   "cell_type": "code",
   "execution_count": 9,
   "id": "b7010168-c3d0-4c3b-8b7a-45e9590f0748",
   "metadata": {},
   "outputs": [],
   "source": [
    "reglin = LinearRegression()"
   ]
  },
  {
   "cell_type": "markdown",
   "id": "30673fe0-5255-453d-ac5f-b08c42afdd01",
   "metadata": {},
   "source": [
    "### Let's do the fit, I mean, the training"
   ]
  },
  {
   "cell_type": "code",
   "execution_count": 10,
   "id": "1abdab89-d3cd-4384-ad37-391e014a6e7b",
   "metadata": {},
   "outputs": [
    {
     "data": {
      "text/plain": [
       "LinearRegression()"
      ]
     },
     "execution_count": 10,
     "metadata": {},
     "output_type": "execute_result"
    }
   ],
   "source": [
    "reglin.fit(X = X_train, y = y_train)"
   ]
  },
  {
   "cell_type": "markdown",
   "id": "c78de9a0-6542-4c77-9265-7a465186e259",
   "metadata": {},
   "source": [
    "### Let's calculate the coefficient and the interception, to understand this, we need to look the linear equation y= mx + b. The coefficient (slope) is for \"m\" and the interception is for \"b\""
   ]
  },
  {
   "cell_type": "code",
   "execution_count": 11,
   "id": "0beb1785-25cd-4a06-b0f9-60cdc54f2e88",
   "metadata": {},
   "outputs": [
    {
     "data": {
      "text/plain": [
       "array([283.3312025])"
      ]
     },
     "execution_count": 11,
     "metadata": {},
     "output_type": "execute_result"
    }
   ],
   "source": [
    "reglin.coef_"
   ]
  },
  {
   "cell_type": "code",
   "execution_count": 12,
   "id": "ab59d677-5d22-4d4e-aa02-0efe6c9efca2",
   "metadata": {},
   "outputs": [
    {
     "data": {
      "text/plain": [
       "-47648.88872213906"
      ]
     },
     "execution_count": 12,
     "metadata": {},
     "output_type": "execute_result"
    }
   ],
   "source": [
    "reglin.intercept_"
   ]
  },
  {
   "cell_type": "markdown",
   "id": "98192e61-25b3-41af-8165-8855c53f895d",
   "metadata": {},
   "source": [
    "# 4.- PREDICTED AND EXPECTED VALUES"
   ]
  },
  {
   "cell_type": "code",
   "execution_count": 13,
   "id": "07e472db-baf9-43a5-95d0-a0d08233b67f",
   "metadata": {},
   "outputs": [],
   "source": [
    "predicted = reglin.predict(X_test)\n",
    "expected = y_test"
   ]
  },
  {
   "cell_type": "markdown",
   "id": "33516105-71a6-423a-a061-6b0e14b7f769",
   "metadata": {},
   "source": [
    "### We are going to do a for-loop to display the predicted and the expected values of 300 by 300 since there are 5,404 values for the test data and only show 19 records."
   ]
  },
  {
   "cell_type": "code",
   "execution_count": 14,
   "id": "48b19609-4862-4a35-b36b-e35107bea95b",
   "metadata": {},
   "outputs": [
    {
     "name": "stdout",
     "output_type": "stream",
     "text": [
      "Predicted: 264015.43, Expected:343566.00\n",
      "Predicted: 782511.53, Expected:650880.00\n",
      "Predicted: 295748.53, Expected:340000.00\n",
      "Predicted: 439680.78, Expected:770000.00\n",
      "Predicted: 884510.77, Expected:775000.00\n",
      "Predicted: 278181.99, Expected:420000.00\n",
      "Predicted: 298015.18, Expected:940000.00\n",
      "Predicted: 521846.83, Expected:627800.00\n",
      "Predicted: 538846.70, Expected:880000.00\n",
      "Predicted: 932677.07, Expected:730000.00\n",
      "Predicted: 419847.60, Expected:610000.00\n",
      "Predicted: 198849.26, Expected:395000.00\n",
      "Predicted: 638012.62, Expected:675000.00\n",
      "Predicted: 479347.15, Expected:301350.00\n",
      "Predicted: 561513.20, Expected:950000.00\n",
      "Predicted: 632346.00, Expected:569000.00\n",
      "Predicted: 368847.98, Expected:432000.00\n",
      "Predicted: 385847.85, Expected:412500.00\n",
      "Predicted: 997843.25, Expected:1130000.00\n"
     ]
    }
   ],
   "source": [
    "for p,e in zip (predicted[::300],expected[::300]):\n",
    "    print(f'Predicted: {p:.2f}, Expected:{e:.2f}')"
   ]
  },
  {
   "cell_type": "code",
   "execution_count": 15,
   "id": "8a4a6d3a-79d6-41e4-b9e4-2ab47cc9f5ac",
   "metadata": {},
   "outputs": [
    {
     "data": {
      "text/plain": [
       "343566.0"
      ]
     },
     "execution_count": 15,
     "metadata": {},
     "output_type": "execute_result"
    }
   ],
   "source": [
    "y_test[0]"
   ]
  },
  {
   "cell_type": "markdown",
   "id": "8b203189-fadb-46fb-b3a9-054273e2959c",
   "metadata": {},
   "source": [
    "### It was obvious that the predictions were not going to be optimal since it is only predicting based on the area of the houses, however, we are going to calculate the R^2 to observe the model performance."
   ]
  },
  {
   "cell_type": "code",
   "execution_count": 16,
   "id": "69dfd660-4c68-45ea-bce6-af2aa9ba7109",
   "metadata": {},
   "outputs": [
    {
     "data": {
      "text/plain": [
       "48.076807615224624"
      ]
     },
     "execution_count": 16,
     "metadata": {},
     "output_type": "execute_result"
    }
   ],
   "source": [
    "metrics.r2_score(expected,predicted) * 100"
   ]
  },
  {
   "cell_type": "markdown",
   "id": "4998078f-ce6d-42fe-b3b1-f03dd83dd1e4",
   "metadata": {},
   "source": [
    "### Now, we are going to use the built model to predict some prices."
   ]
  },
  {
   "cell_type": "code",
   "execution_count": 17,
   "id": "39dd759c-1104-4955-88d5-751a5e21da0a",
   "metadata": {},
   "outputs": [],
   "source": [
    "predict = (lambda x:reglin.coef_ * x + reglin.intercept_)"
   ]
  },
  {
   "cell_type": "code",
   "execution_count": 18,
   "id": "8626f42c-a5e8-4e51-81bc-f07b4b11fa23",
   "metadata": {},
   "outputs": [
    {
     "data": {
      "text/html": [
       "<div>\n",
       "<style scoped>\n",
       "    .dataframe tbody tr th:only-of-type {\n",
       "        vertical-align: middle;\n",
       "    }\n",
       "\n",
       "    .dataframe tbody tr th {\n",
       "        vertical-align: top;\n",
       "    }\n",
       "\n",
       "    .dataframe thead th {\n",
       "        text-align: right;\n",
       "    }\n",
       "</style>\n",
       "<table border=\"1\" class=\"dataframe\">\n",
       "  <thead>\n",
       "    <tr style=\"text-align: right;\">\n",
       "      <th></th>\n",
       "      <th>AreaFT</th>\n",
       "      <th>PricesUSD</th>\n",
       "    </tr>\n",
       "  </thead>\n",
       "  <tbody>\n",
       "    <tr>\n",
       "      <th>3508</th>\n",
       "      <td>3010</td>\n",
       "      <td>695000.0</td>\n",
       "    </tr>\n",
       "    <tr>\n",
       "      <th>4245</th>\n",
       "      <td>3110</td>\n",
       "      <td>755000.0</td>\n",
       "    </tr>\n",
       "    <tr>\n",
       "      <th>9204</th>\n",
       "      <td>2130</td>\n",
       "      <td>1070000.0</td>\n",
       "    </tr>\n",
       "    <tr>\n",
       "      <th>8153</th>\n",
       "      <td>1330</td>\n",
       "      <td>183000.0</td>\n",
       "    </tr>\n",
       "    <tr>\n",
       "      <th>18134</th>\n",
       "      <td>1890</td>\n",
       "      <td>330000.0</td>\n",
       "    </tr>\n",
       "  </tbody>\n",
       "</table>\n",
       "</div>"
      ],
      "text/plain": [
       "       AreaFT  PricesUSD\n",
       "3508     3010   695000.0\n",
       "4245     3110   755000.0\n",
       "9204     2130  1070000.0\n",
       "8153     1330   183000.0\n",
       "18134    1890   330000.0"
      ]
     },
     "execution_count": 18,
     "metadata": {},
     "output_type": "execute_result"
    }
   ],
   "source": [
    "df_kchouse.sample(5)"
   ]
  },
  {
   "cell_type": "markdown",
   "id": "4b5deb59-1964-4825-82b8-5e46accd4008",
   "metadata": {},
   "source": [
    "### The behavior is interesting, some predictions are closed to the expected or real values and in some there are a wide difference. Let's explain this, if the predicted value is closed to the expected one, it is because the house could be in a average place in seattle, if the prediction is too low it is because the house could be in a fancy or rich neighborhood, otherwise, i the prediction is too high it is because the house could be in a undistinguished or poor neigborhood."
   ]
  },
  {
   "cell_type": "code",
   "execution_count": 19,
   "id": "587ee01e-c969-4107-9b97-f4f6b10cb361",
   "metadata": {},
   "outputs": [
    {
     "data": {
      "text/plain": [
       "array([411347.65932287])"
      ]
     },
     "execution_count": 19,
     "metadata": {},
     "output_type": "execute_result"
    }
   ],
   "source": [
    "predict(1620)"
   ]
  },
  {
   "cell_type": "markdown",
   "id": "d68ad739-b779-4450-b0c7-954240416d02",
   "metadata": {},
   "source": [
    "### Now, we are going to display the linear regression function in a scatter plot."
   ]
  },
  {
   "cell_type": "code",
   "execution_count": 20,
   "id": "48ac7f71-f00b-46c4-8933-54cbc2bdd497",
   "metadata": {},
   "outputs": [
    {
     "data": {
      "image/png": "[encoded data removed]",
      "text/plain": [
       "<Figure size 640x480 with 1 Axes>"
      ]
     },
     "metadata": {},
     "output_type": "display_data"
    }
   ],
   "source": [
    "axes = sns.scatterplot(data = df_kchouse, x = \"AreaFT\", y = \"PricesUSD\", hue = \"PricesUSD\", palette = \"flare\", legend = False)\n",
    "\n",
    "x = np.array([min(df_kchouse.AreaFT.values), max(df_kchouse.AreaFT.values)])\n",
    "y = predict(x)\n",
    "\n",
    "line = plt.plot (x,y)"
   ]
  },
  {
   "cell_type": "markdown",
   "id": "d11ccf91-c7e5-4b90-baea-d2f49dc0f292",
   "metadata": {},
   "source": [
    "# 5.- CONCLUSION"
   ]
  },
  {
   "cell_type": "markdown",
   "id": "71eb0e25-34e4-4204-803a-bcd20bf3aae9",
   "metadata": {},
   "source": [
    "## The model as I said, is not optimal because is predicted based in only one variable, however, there is something to improve the model, that is, identifying and locating the outliers in the Data Set, then dropping them and build the model again."
   ]
  }
 ],
 "metadata": {
  "kernelspec": {
   "display_name": "Python 3 (ipykernel)",
   "language": "python",
   "name": "python3"
  },
  "language_info": {
   "codemirror_mode": {
    "name": "ipython",
    "version": 3
   },
   "file_extension": ".py",
   "mimetype": "text/x-python",
   "name": "python",
   "nbconvert_exporter": "python",
   "pygments_lexer": "ipython3",
   "version": "3.9.13"
  }
 },
 "nbformat": 4,
 "nbformat_minor": 5
}
